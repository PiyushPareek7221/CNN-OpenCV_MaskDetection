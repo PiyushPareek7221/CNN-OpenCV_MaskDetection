{
 "cells": [
  {
   "cell_type": "code",
   "execution_count": 25,
   "metadata": {},
   "outputs": [],
   "source": [
    "# LOADING THE SAVED NUMPY ARRAYS OF DATA AND TARGET\n",
    "\n",
    "import numpy as np\n",
    "data=np.load('MaskData.npy')\n",
    "target=np.load('MaskTarget.npy')"
   ]
  },
  {
   "cell_type": "code",
   "execution_count": 26,
   "metadata": {},
   "outputs": [],
   "source": [
    "# IMPORTING LAYERS, MODEL, AND CALLBACK FOR MODEL TRAINING \n",
    "\n",
    "from keras.models import Sequential\n",
    "from keras.layers import Dense,Flatten,Dropout,BatchNormalization,Activation\n",
    "from keras.layers import Conv2D,MaxPooling2D\n",
    "from keras.callbacks import ModelCheckpoint"
   ]
  },
  {
   "cell_type": "code",
   "execution_count": 27,
   "metadata": {},
   "outputs": [],
   "source": [
    "# INITIALIZING THE MODEL\n",
    "\n",
    "model=Sequential()"
   ]
  },
  {
   "cell_type": "code",
   "execution_count": 28,
   "metadata": {},
   "outputs": [],
   "source": [
    "# ADDING LAYERS\n",
    "\n",
    "model.add(Conv2D(32,(3,3),input_shape=data.shape[1:]))\n",
    "model.add(Activation('relu'))\n",
    "model.add(BatchNormalization())\n",
    "model.add(MaxPooling2D(pool_size=(2,2)))\n",
    "#The first CNN layer followed by Relu and MaxPooling layers\n",
    "\n",
    "model.add(Conv2D(32,(3,3)))\n",
    "model.add(Activation('relu'))\n",
    "model.add(BatchNormalization())\n",
    "model.add(MaxPooling2D(pool_size=(2,2)))\n",
    "#The second convolution layer followed by Relu and MaxPooling layers"
   ]
  },
  {
   "cell_type": "code",
   "execution_count": 29,
   "metadata": {},
   "outputs": [],
   "source": [
    "# FLATTENING THE LAYER AND ADDING THE OUTPUT \n",
    "\n",
    "model.add(Flatten())\n",
    "model.add(Dropout(0.5))\n",
    "#Flatten layer to stack the output convolutions from second convolution layer\n",
    "model.add(Dense(128,activation='relu'))\n",
    "#Dense layer of 64 neurons\n",
    "model.add(BatchNormalization())\n",
    "model.add(Dense(2,activation='softmax'))\n",
    "#The Final layer with two outputs for two categories"
   ]
  },
  {
   "cell_type": "code",
   "execution_count": 30,
   "metadata": {},
   "outputs": [],
   "source": [
    "# COMPILING THE MODEL\n",
    "\n",
    "model.compile(loss='categorical_crossentropy',optimizer='adam',metrics=['accuracy'])"
   ]
  },
  {
   "cell_type": "code",
   "execution_count": 31,
   "metadata": {},
   "outputs": [],
   "source": [
    "# DIVIDING DATASET INTO TRAINING AND TESTING\n",
    "\n",
    "from sklearn.model_selection import train_test_split\n",
    "train_data,test_data,train_target,test_target=train_test_split(data,target,test_size=0.1)"
   ]
  },
  {
   "cell_type": "code",
   "execution_count": 32,
   "metadata": {},
   "outputs": [],
   "source": [
    "# ADDING A CALLBACK\n",
    "\n",
    "checkpoint = ModelCheckpoint('model-{epoch:03d}.model',monitor='val_loss',verbose=0,save_best_only=True,mode='auto')"
   ]
  },
  {
   "cell_type": "code",
   "execution_count": 33,
   "metadata": {},
   "outputs": [
    {
     "name": "stdout",
     "output_type": "stream",
     "text": [
      "Epoch 1/20\n",
      "87/87 [==============================] - ETA: 0s - loss: 0.4457 - accuracy: 0.8356INFO:tensorflow:Assets written to: model-001.model\\assets\n",
      "87/87 [==============================] - 77s 883ms/step - loss: 0.4457 - accuracy: 0.8356 - val_loss: 1.0418 - val_accuracy: 0.5152\n",
      "Epoch 2/20\n",
      "87/87 [==============================] - 68s 777ms/step - loss: 0.1970 - accuracy: 0.9227 - val_loss: 1.1609 - val_accuracy: 0.5152\n",
      "Epoch 3/20\n",
      "87/87 [==============================] - 76s 870ms/step - loss: 0.1332 - accuracy: 0.9462 - val_loss: 1.2685 - val_accuracy: 0.5180\n",
      "Epoch 4/20\n",
      "87/87 [==============================] - ETA: 0s - loss: 0.0745 - accuracy: 0.9733INFO:tensorflow:Assets written to: model-004.model\\assets\n",
      "87/87 [==============================] - 89s 1s/step - loss: 0.0745 - accuracy: 0.9733 - val_loss: 0.9924 - val_accuracy: 0.5859\n",
      "Epoch 5/20\n",
      "87/87 [==============================] - ETA: 0s - loss: 0.0719 - accuracy: 0.9736INFO:tensorflow:Assets written to: model-005.model\\assets\n",
      "87/87 [==============================] - 71s 820ms/step - loss: 0.0719 - accuracy: 0.9736 - val_loss: 0.8539 - val_accuracy: 0.6854\n",
      "Epoch 6/20\n",
      "87/87 [==============================] - ETA: 0s - loss: 0.0613 - accuracy: 0.9780INFO:tensorflow:Assets written to: model-006.model\\assets\n",
      "87/87 [==============================] - 69s 797ms/step - loss: 0.0613 - accuracy: 0.9780 - val_loss: 0.4878 - val_accuracy: 0.7994\n",
      "Epoch 7/20\n",
      "87/87 [==============================] - ETA: 0s - loss: 0.0338 - accuracy: 0.9892INFO:tensorflow:Assets written to: model-007.model\\assets\n",
      "87/87 [==============================] - 100s 1s/step - loss: 0.0338 - accuracy: 0.9892 - val_loss: 0.2818 - val_accuracy: 0.8918\n",
      "Epoch 8/20\n",
      "87/87 [==============================] - ETA: 0s - loss: 0.0267 - accuracy: 0.9931INFO:tensorflow:Assets written to: model-008.model\\assets\n",
      "87/87 [==============================] - 67s 769ms/step - loss: 0.0267 - accuracy: 0.9931 - val_loss: 0.2555 - val_accuracy: 0.9120\n",
      "Epoch 9/20\n",
      "87/87 [==============================] - ETA: 0s - loss: 0.0344 - accuracy: 0.9863INFO:tensorflow:Assets written to: model-009.model\\assets\n",
      "87/87 [==============================] - 80s 920ms/step - loss: 0.0344 - accuracy: 0.9863 - val_loss: 0.2183 - val_accuracy: 0.9278\n",
      "Epoch 10/20\n",
      "87/87 [==============================] - 90s 1s/step - loss: 0.0274 - accuracy: 0.9902 - val_loss: 0.2381 - val_accuracy: 0.9278\n",
      "Epoch 11/20\n",
      "87/87 [==============================] - 62s 714ms/step - loss: 0.0286 - accuracy: 0.9892 - val_loss: 0.4613 - val_accuracy: 0.8600\n",
      "Epoch 12/20\n",
      "87/87 [==============================] - 72s 833ms/step - loss: 0.0340 - accuracy: 0.9870 - val_loss: 0.3107 - val_accuracy: 0.9048\n",
      "Epoch 13/20\n",
      "87/87 [==============================] - 86s 993ms/step - loss: 0.0270 - accuracy: 0.9917 - val_loss: 0.2803 - val_accuracy: 0.9163\n",
      "Epoch 14/20\n",
      "87/87 [==============================] - 66s 759ms/step - loss: 0.0216 - accuracy: 0.9935 - val_loss: 0.3491 - val_accuracy: 0.9004\n",
      "Epoch 15/20\n",
      "87/87 [==============================] - 76s 879ms/step - loss: 0.0211 - accuracy: 0.9939 - val_loss: 0.2353 - val_accuracy: 0.9307\n",
      "Epoch 16/20\n",
      "87/87 [==============================] - 77s 887ms/step - loss: 0.0184 - accuracy: 0.9935 - val_loss: 0.2459 - val_accuracy: 0.9365\n",
      "Epoch 17/20\n",
      "87/87 [==============================] - 72s 825ms/step - loss: 0.0145 - accuracy: 0.9957 - val_loss: 0.2358 - val_accuracy: 0.9293\n",
      "Epoch 18/20\n",
      "87/87 [==============================] - 72s 823ms/step - loss: 0.0160 - accuracy: 0.9953 - val_loss: 0.2365 - val_accuracy: 0.9351\n",
      "Epoch 19/20\n",
      "87/87 [==============================] - 97s 1s/step - loss: 0.0183 - accuracy: 0.9939 - val_loss: 0.2582 - val_accuracy: 0.9351\n",
      "Epoch 20/20\n",
      "87/87 [==============================] - 65s 751ms/step - loss: 0.0151 - accuracy: 0.9960 - val_loss: 0.3035 - val_accuracy: 0.9206\n"
     ]
    }
   ],
   "source": [
    "# TRAINING THE MODEL\n",
    "\n",
    "history=model.fit(train_data,train_target,epochs=20,callbacks=[checkpoint],validation_split=0.2)"
   ]
  },
  {
   "cell_type": "code",
   "execution_count": 38,
   "metadata": {},
   "outputs": [
    {
     "name": "stdout",
     "output_type": "stream",
     "text": [
      "13/13 [==============================] - 1s 89ms/step - loss: 0.2815 - accuracy: 0.9455\n",
      "[0.2815082371234894, 0.9454545378684998]\n"
     ]
    }
   ],
   "source": [
    "print(model.evaluate(test_data,test_target))"
   ]
  },
  {
   "cell_type": "code",
   "execution_count": null,
   "metadata": {},
   "outputs": [],
   "source": []
  }
 ],
 "metadata": {
  "kernelspec": {
   "display_name": "Python 3",
   "language": "python",
   "name": "python3"
  },
  "language_info": {
   "codemirror_mode": {
    "name": "ipython",
    "version": 3
   },
   "file_extension": ".py",
   "mimetype": "text/x-python",
   "name": "python",
   "nbconvert_exporter": "python",
   "pygments_lexer": "ipython3",
   "version": "3.7.4"
  }
 },
 "nbformat": 4,
 "nbformat_minor": 2
}
